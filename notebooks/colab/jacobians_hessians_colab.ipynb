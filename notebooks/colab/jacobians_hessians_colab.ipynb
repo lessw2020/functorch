{
  "nbformat": 4,
  "nbformat_minor": 0,
  "metadata": {
    "colab": {
      "name": "functorch_hessians_colab.ipynb",
      "provenance": [],
      "collapsed_sections": [
        "0I5Mm2q2f5aw"
      ],
      "machine_shape": "hm",
      "toc_visible": true
    },
    "kernelspec": {
      "name": "python3",
      "display_name": "Python 3"
    },
    "language_info": {
      "name": "python"
    },
    "accelerator": "GPU"
  },
  "cells": [
    {
      "cell_type": "markdown",
      "source": [
        "### Welcome to the functorch tutorial on Jacobians, Hessians and more - on colab! "
      ],
      "metadata": {
        "id": "W6b4RUiYnhSt"
      }
    },
    {
      "cell_type": "markdown",
      "source": [
        "## Configuring your colab to run functorch \n"
      ],
      "metadata": {
        "id": "0I5Mm2q2f5aw"
      }
    },
    {
      "cell_type": "markdown",
      "source": [
        "**Getting setup** - running functorch currently requires Pytorch Nightly.  \n",
        "Thus we'll go through a pytorch nightly install and build functorch. \n",
        "\n",
        "After that and a restart, you'll be ready to run the tutorial here on colab."
      ],
      "metadata": {
        "id": "jnHxd2KFgPJg"
      }
    },
    {
      "cell_type": "markdown",
      "source": [
        "Let's setup a restart function:"
      ],
      "metadata": {
        "id": "PvwZSOklhpB2"
      }
    },
    {
      "cell_type": "code",
      "source": [
        "def colab_restart():\n",
        "  print(\"--> Restarting colab instance\") \n",
        "  get_ipython().kernel.do_shutdown(True)"
      ],
      "metadata": {
        "id": "MklsA-KRhZKC"
      },
      "execution_count": 2,
      "outputs": []
    },
    {
      "cell_type": "markdown",
      "source": [
        "Next, let's confirm that we have a gpu.  \n",
        "(If not, select Runtime -> Change Runtime type above,\n",
        " and select GPU under Hardward Accelerator )"
      ],
      "metadata": {
        "id": "Njk9qPgTiiGS"
      }
    },
    {
      "cell_type": "code",
      "source": [
        "!nvcc --version"
      ],
      "metadata": {
        "colab": {
          "base_uri": "https://localhost:8080/"
        },
        "id": "HxidO4dpiPGi",
        "outputId": "8a285bcd-a791-4d19-9a71-8e53d8325eba"
      },
      "execution_count": 3,
      "outputs": [
        {
          "output_type": "stream",
          "name": "stdout",
          "text": [
            "nvcc: NVIDIA (R) Cuda compiler driver\n",
            "Copyright (c) 2005-2020 NVIDIA Corporation\n",
            "Built on Mon_Oct_12_20:09:46_PDT_2020\n",
            "Cuda compilation tools, release 11.1, V11.1.105\n",
            "Build cuda_11.1.TC455_06.29190527_0\n"
          ]
        }
      ]
    },
    {
      "cell_type": "markdown",
      "source": [
        "Let's remove the default PyTorch install:"
      ],
      "metadata": {
        "id": "HanoUO62jtKx"
      }
    },
    {
      "cell_type": "code",
      "source": [
        "!pip uninstall -y torch"
      ],
      "metadata": {
        "colab": {
          "base_uri": "https://localhost:8080/"
        },
        "id": "NIoTNykP9xI5",
        "outputId": "f8678909-b7f0-4c37-8186-a6ce38c0f483"
      },
      "execution_count": 4,
      "outputs": [
        {
          "output_type": "stream",
          "name": "stdout",
          "text": [
            "Found existing installation: torch 1.10.0+cu111\n",
            "Uninstalling torch-1.10.0+cu111:\n",
            "  Successfully uninstalled torch-1.10.0+cu111\n"
          ]
        }
      ]
    },
    {
      "cell_type": "markdown",
      "source": [
        "And install the relevant nightly version.  (this defaults to 11.1 Cuda which works on most colabs). "
      ],
      "metadata": {
        "id": "n-DFUwBVkHaX"
      }
    },
    {
      "cell_type": "code",
      "source": [
        "cuda_version = \"cu111\" # optionally - cu113 (for 11.3) is an option as well if you have 11.3 listed above in the nvcc output. "
      ],
      "metadata": {
        "id": "BH5ffJBkkRR8"
      },
      "execution_count": 5,
      "outputs": []
    },
    {
      "cell_type": "code",
      "source": [
        "!pip install --pre torch -f https://download.pytorch.org/whl/nightly/{cuda_version}/torch_nightly.html --upgrade"
      ],
      "metadata": {
        "colab": {
          "base_uri": "https://localhost:8080/"
        },
        "id": "Bi2oymijkav5",
        "outputId": "d78924ae-a04e-44ce-c28f-b7d20b9b2cfc"
      },
      "execution_count": 6,
      "outputs": [
        {
          "output_type": "stream",
          "name": "stdout",
          "text": [
            "Looking in links: https://download.pytorch.org/whl/nightly/cu111/torch_nightly.html\n",
            "Collecting torch\n",
            "  Downloading https://download.pytorch.org/whl/nightly/cu111/torch-1.12.0.dev20220216%2Bcu111-cp37-cp37m-linux_x86_64.whl (1922.9 MB)\n",
            "\u001b[K     |█████████████▉                  | 834.1 MB 60.9 MB/s eta 0:00:18tcmalloc: large alloc 1147494400 bytes == 0x559246f1a000 @  0x7fa0182ce615 0x55920e8183bc 0x55920e8f918a 0x55920e81b1cd 0x55920e90db3d 0x55920e88f458 0x55920e88a02f 0x55920e81caba 0x55920e88f2c0 0x55920e88a02f 0x55920e81caba 0x55920e88bcd4 0x55920e90e986 0x55920e88b350 0x55920e90e986 0x55920e88b350 0x55920e90e986 0x55920e88b350 0x55920e81cf19 0x55920e860a79 0x55920e81bb32 0x55920e88f1dd 0x55920e88a02f 0x55920e81caba 0x55920e88bcd4 0x55920e88a02f 0x55920e81caba 0x55920e88aeae 0x55920e81c9da 0x55920e88b108 0x55920e88a02f\n",
            "\u001b[K     |█████████████████▋              | 1055.7 MB 1.3 MB/s eta 0:11:14tcmalloc: large alloc 1434370048 bytes == 0x55928b570000 @  0x7fa0182ce615 0x55920e8183bc 0x55920e8f918a 0x55920e81b1cd 0x55920e90db3d 0x55920e88f458 0x55920e88a02f 0x55920e81caba 0x55920e88f2c0 0x55920e88a02f 0x55920e81caba 0x55920e88bcd4 0x55920e90e986 0x55920e88b350 0x55920e90e986 0x55920e88b350 0x55920e90e986 0x55920e88b350 0x55920e81cf19 0x55920e860a79 0x55920e81bb32 0x55920e88f1dd 0x55920e88a02f 0x55920e81caba 0x55920e88bcd4 0x55920e88a02f 0x55920e81caba 0x55920e88aeae 0x55920e81c9da 0x55920e88b108 0x55920e88a02f\n",
            "\u001b[K     |██████████████████████▎         | 1336.2 MB 1.3 MB/s eta 0:07:18tcmalloc: large alloc 1792966656 bytes == 0x5592103a2000 @  0x7fa0182ce615 0x55920e8183bc 0x55920e8f918a 0x55920e81b1cd 0x55920e90db3d 0x55920e88f458 0x55920e88a02f 0x55920e81caba 0x55920e88f2c0 0x55920e88a02f 0x55920e81caba 0x55920e88bcd4 0x55920e90e986 0x55920e88b350 0x55920e90e986 0x55920e88b350 0x55920e90e986 0x55920e88b350 0x55920e81cf19 0x55920e860a79 0x55920e81bb32 0x55920e88f1dd 0x55920e88a02f 0x55920e81caba 0x55920e88bcd4 0x55920e88a02f 0x55920e81caba 0x55920e88aeae 0x55920e81c9da 0x55920e88b108 0x55920e88a02f\n",
            "\u001b[K     |████████████████████████████▏   | 1691.1 MB 1.3 MB/s eta 0:03:02tcmalloc: large alloc 2241208320 bytes == 0x55927b18a000 @  0x7fa0182ce615 0x55920e8183bc 0x55920e8f918a 0x55920e81b1cd 0x55920e90db3d 0x55920e88f458 0x55920e88a02f 0x55920e81caba 0x55920e88f2c0 0x55920e88a02f 0x55920e81caba 0x55920e88bcd4 0x55920e90e986 0x55920e88b350 0x55920e90e986 0x55920e88b350 0x55920e90e986 0x55920e88b350 0x55920e81cf19 0x55920e860a79 0x55920e81bb32 0x55920e88f1dd 0x55920e88a02f 0x55920e81caba 0x55920e88bcd4 0x55920e88a02f 0x55920e81caba 0x55920e88aeae 0x55920e81c9da 0x55920e88b108 0x55920e88a02f\n",
            "\u001b[K     |████████████████████████████████| 1922.9 MB 1.2 MB/s eta 0:00:01tcmalloc: large alloc 1922924544 bytes == 0x559300aec000 @  0x7fa0182cd1e7 0x55920e84e5d7 0x55920e8183bc 0x55920e8f918a 0x55920e81b1cd 0x55920e90db3d 0x55920e88f458 0x55920e88a02f 0x55920e81caba 0x55920e88b108 0x55920e88a02f 0x55920e81caba 0x55920e88b108 0x55920e88a02f 0x55920e81caba 0x55920e88b108 0x55920e88a02f 0x55920e81caba 0x55920e88b108 0x55920e88a02f 0x55920e81caba 0x55920e88b108 0x55920e81c9da 0x55920e88b108 0x55920e88a02f 0x55920e81caba 0x55920e88bcd4 0x55920e88a02f 0x55920e81caba 0x55920e88bcd4 0x55920e88a02f\n",
            "tcmalloc: large alloc 2403655680 bytes == 0x5593734c4000 @  0x7fa0182ce615 0x55920e8183bc 0x55920e8f918a 0x55920e81b1cd 0x55920e90db3d 0x55920e88f458 0x55920e88a02f 0x55920e81caba 0x55920e88b108 0x55920e88a02f 0x55920e81caba 0x55920e88b108 0x55920e88a02f 0x55920e81caba 0x55920e88b108 0x55920e88a02f 0x55920e81caba 0x55920e88b108 0x55920e88a02f 0x55920e81caba 0x55920e88b108 0x55920e81c9da 0x55920e88b108 0x55920e88a02f 0x55920e81caba 0x55920e88bcd4 0x55920e88a02f 0x55920e81caba 0x55920e88bcd4 0x55920e88a02f 0x55920e81d151\n",
            "\u001b[K     |████████████████████████████████| 1922.9 MB 4.7 kB/s \n",
            "\u001b[?25hRequirement already satisfied: typing-extensions in /usr/local/lib/python3.7/dist-packages (from torch) (3.10.0.2)\n",
            "Installing collected packages: torch\n",
            "\u001b[31mERROR: pip's dependency resolver does not currently take into account all the packages that are installed. This behaviour is the source of the following dependency conflicts.\n",
            "torchvision 0.11.1+cu111 requires torch==1.10.0, but you have torch 1.12.0.dev20220216+cu111 which is incompatible.\n",
            "torchtext 0.11.0 requires torch==1.10.0, but you have torch 1.12.0.dev20220216+cu111 which is incompatible.\n",
            "torchaudio 0.10.0+cu111 requires torch==1.10.0, but you have torch 1.12.0.dev20220216+cu111 which is incompatible.\u001b[0m\n",
            "Successfully installed torch-1.12.0.dev20220216+cu111\n"
          ]
        }
      ]
    },
    {
      "cell_type": "markdown",
      "source": [
        "Let's install Ninja to accelerate the functorch building process:"
      ],
      "metadata": {
        "id": "OkL1Q6KXlzid"
      }
    },
    {
      "cell_type": "code",
      "source": [
        "!pip install ninja"
      ],
      "metadata": {
        "colab": {
          "base_uri": "https://localhost:8080/"
        },
        "id": "VEJs4UEOkay0",
        "outputId": "ca624c7e-dfe6-4233-a51d-b8ad5188a0c4"
      },
      "execution_count": 7,
      "outputs": [
        {
          "output_type": "stream",
          "name": "stdout",
          "text": [
            "Collecting ninja\n",
            "  Downloading ninja-1.10.2.3-py2.py3-none-manylinux_2_5_x86_64.manylinux1_x86_64.whl (108 kB)\n",
            "\u001b[?25l\r\u001b[K     |███                             | 10 kB 19.8 MB/s eta 0:00:01\r\u001b[K     |██████                          | 20 kB 8.7 MB/s eta 0:00:01\r\u001b[K     |█████████                       | 30 kB 7.4 MB/s eta 0:00:01\r\u001b[K     |████████████▏                   | 40 kB 6.8 MB/s eta 0:00:01\r\u001b[K     |███████████████▏                | 51 kB 4.0 MB/s eta 0:00:01\r\u001b[K     |██████████████████▏             | 61 kB 4.2 MB/s eta 0:00:01\r\u001b[K     |█████████████████████▏          | 71 kB 4.3 MB/s eta 0:00:01\r\u001b[K     |████████████████████████▎       | 81 kB 4.8 MB/s eta 0:00:01\r\u001b[K     |███████████████████████████▎    | 92 kB 3.7 MB/s eta 0:00:01\r\u001b[K     |██████████████████████████████▎ | 102 kB 4.0 MB/s eta 0:00:01\r\u001b[K     |████████████████████████████████| 108 kB 4.0 MB/s \n",
            "\u001b[?25hInstalling collected packages: ninja\n",
            "Successfully installed ninja-1.10.2.3\n"
          ]
        }
      ]
    },
    {
      "cell_type": "markdown",
      "source": [
        "Next we'll install and build functorch (eta is ~6 minutes):"
      ],
      "metadata": {
        "id": "s3rrVgGkmNpi"
      }
    },
    {
      "cell_type": "code",
      "execution_count": 8,
      "metadata": {
        "id": "UtBgzUPDfIQg",
        "colab": {
          "base_uri": "https://localhost:8080/"
        },
        "outputId": "2c103dc1-7123-4320-b012-652b2d27d0a8"
      },
      "outputs": [
        {
          "output_type": "stream",
          "name": "stdout",
          "text": [
            "Collecting git+https://github.com/pytorch/functorch.git\n",
            "  Cloning https://github.com/pytorch/functorch.git to /tmp/pip-req-build-htz8t0jk\n",
            "  Running command git clone -q https://github.com/pytorch/functorch.git /tmp/pip-req-build-htz8t0jk\n",
            "Requirement already satisfied: torch>=1.10.0.dev in /usr/local/lib/python3.7/dist-packages (from functorch==0.2.0a0+2cf76f3) (1.12.0.dev20220216+cu111)\n",
            "Requirement already satisfied: typing-extensions in /usr/local/lib/python3.7/dist-packages (from torch>=1.10.0.dev->functorch==0.2.0a0+2cf76f3) (3.10.0.2)\n",
            "Building wheels for collected packages: functorch\n",
            "  Building wheel for functorch (setup.py) ... \u001b[?25l\u001b[?25hdone\n",
            "  Created wheel for functorch: filename=functorch-0.2.0a0+2cf76f3-cp37-cp37m-linux_x86_64.whl size=21457003 sha256=be6cfe683ff09d15bac0a66e14d6d2d476a15a18273ceb0fc64a1d13fa0e37d7\n",
            "  Stored in directory: /tmp/pip-ephem-wheel-cache-zrhpj6mp/wheels/b0/a9/4a/ffec50dda854c8d9f2ba21e4ffc0f2489ea97946cb1102c5ab\n",
            "Successfully built functorch\n",
            "Installing collected packages: functorch\n",
            "Successfully installed functorch-0.2.0a0+2cf76f3\n"
          ]
        }
      ],
      "source": [
        "!pip install --user \"git+https://github.com/pytorch/functorch.git\""
      ]
    },
    {
      "cell_type": "markdown",
      "source": [
        "Finally - restart colab and after that - just skip directly down to the '-- Tutorial Start --' section to get underway."
      ],
      "metadata": {
        "id": "T8dhR1XEmcJ6"
      }
    },
    {
      "cell_type": "code",
      "source": [
        "colab_restart() "
      ],
      "metadata": {
        "id": "xo2UY9b8ma8t",
        "colab": {
          "base_uri": "https://localhost:8080/"
        },
        "outputId": "cf9301e6-13ce-4cb6-aefe-c43b14561ec8"
      },
      "execution_count": 9,
      "outputs": [
        {
          "output_type": "stream",
          "name": "stdout",
          "text": [
            "--> Restarting colab instance\n"
          ]
        }
      ]
    },
    {
      "cell_type": "markdown",
      "source": [
        "## -- Tutorial Start -- \n",
        "\n"
      ],
      "metadata": {
        "id": "nj6_fW76wM0d"
      }
    },
    {
      "cell_type": "code",
      "source": [
        "# Confirm we are ready to start.  \n",
        "# If this errs, please make sure you have completed the install steps above first and then return here.\n",
        "\n",
        "import functorch    "
      ],
      "metadata": {
        "id": "SvUfIxRyeAaL"
      },
      "execution_count": 2,
      "outputs": []
    },
    {
      "cell_type": "markdown",
      "source": [
        "# Jacobians, hessians, and more: composing functorch transforms\n",
        "\n",
        "Computing jacobians or hessians are useful in a number of non-traditional deep learning models. \n",
        "\n",
        "It is difficult (or annoying) to compute these quantities efficiently using a standard autodiff system like PyTorch Autograd; functorch provides ways of computing various higher-order autodiff quantities efficiently.\n"
      ],
      "metadata": {
        "id": "nLdOLDH6m9oy"
      }
    },
    {
      "cell_type": "code",
      "source": [
        "import torch\n",
        "import torch.nn as nn\n",
        "import torch.nn.functional as F\n",
        "from functools import partial\n",
        "_ = torch.manual_seed(0)\n"
      ],
      "metadata": {
        "id": "vUsb3VfexJrY"
      },
      "execution_count": 3,
      "outputs": []
    },
    {
      "cell_type": "markdown",
      "source": [
        "**Comparing functorch vs the naive approach:**\n",
        "\n",
        "Let’s start with a function that we’d like to compute the jacobian of.  This is a simple linear function with non-linear activation.\n",
        "\n"
      ],
      "metadata": {
        "id": "aNkX6lFIxzcm"
      }
    },
    {
      "cell_type": "code",
      "source": [
        "def predict(weight, bias, x):\n",
        "    return F.linear(x, weight, bias).tanh()"
      ],
      "metadata": {
        "id": "C3a9_clvyPho"
      },
      "execution_count": 4,
      "outputs": []
    },
    {
      "cell_type": "markdown",
      "source": [
        "Let's add some dummy data:   a weight, a bias, and a feature vector x.\n",
        "\n"
      ],
      "metadata": {
        "id": "mFJDWMM9yaYZ"
      }
    },
    {
      "cell_type": "code",
      "source": [
        "D = 16\n",
        "weight = torch.randn(D, D)\n",
        "bias = torch.randn(D)\n",
        "x = torch.randn(D) # feature vector"
      ],
      "metadata": {
        "id": "WiSMupvCyecd"
      },
      "execution_count": 55,
      "outputs": []
    },
    {
      "cell_type": "markdown",
      "source": [
        "Let's think of `predict` as a function that maps the input `x` from $R^D -> R^D$.\n",
        "PyTorch Autograd computes vector-Jacobian products. In order to compute the full\n",
        "Jacobian of this $R^D -> R^D$ function, we would have to compute it row-by-row\n",
        "by using a different unit vector each time."
      ],
      "metadata": {
        "id": "cTgIIZ9Wyih8"
      }
    },
    {
      "cell_type": "code",
      "source": [
        "def compute_jac(xp):\n",
        "    jacobian_rows = [torch.autograd.grad(predict(weight, bias, xp), xp, vec)[0]\n",
        "                     for vec in unit_vectors]\n",
        "    return torch.stack(jacobian_rows)"
      ],
      "metadata": {
        "id": "ItURFU3M-p98"
      },
      "execution_count": 56,
      "outputs": []
    },
    {
      "cell_type": "code",
      "source": [
        "xp = x.clone().requires_grad_()\n",
        "unit_vectors = torch.eye(D)\n",
        "\n",
        "jacobian = compute_jac(xp)\n",
        "\n",
        "print(jacobian.shape)\n",
        "print(jacobian[0])  # show first row"
      ],
      "metadata": {
        "colab": {
          "base_uri": "https://localhost:8080/"
        },
        "id": "1gehVA1c-BHd",
        "outputId": "81454f59-59e6-470f-e6a6-92c671137ad8"
      },
      "execution_count": 57,
      "outputs": [
        {
          "output_type": "stream",
          "name": "stdout",
          "text": [
            "torch.Size([16, 16])\n",
            "tensor([-5.9625e-06,  1.9876e-05,  7.0103e-06,  1.1086e-05, -1.1939e-05,\n",
            "         1.0975e-05,  8.3484e-06, -1.4599e-06, -1.9937e-05,  1.4976e-05,\n",
            "        -7.4515e-06, -2.2042e-06,  5.0195e-07,  1.5267e-05, -7.8227e-06,\n",
            "         6.9435e-06])\n"
          ]
        }
      ]
    },
    {
      "cell_type": "markdown",
      "source": [
        "Instead of computing the jacobian row-by-row, we can use vmap to get rid of the for-loop and vectorize the computation. \n",
        "We can’t directly apply vmap to PyTorch Autograd; instead, functorch provides a vjp transform:\n",
        "\n"
      ],
      "metadata": {
        "id": "BEZaNt1d_bc1"
      }
    },
    {
      "cell_type": "code",
      "source": [
        "from functorch import vmap, vjp\n",
        "\n",
        "_, vjp_fn = vjp(partial(predict, weight, bias), x)\n",
        "\n",
        "ft_jacobian, = vmap(vjp_fn)(unit_vectors)\n",
        "\n",
        "# lets confirm both methods compute the same result\n",
        "assert torch.allclose(ft_jacobian, jacobian)"
      ],
      "metadata": {
        "id": "Zfnn2C2g-6Fb"
      },
      "execution_count": 58,
      "outputs": []
    },
    {
      "cell_type": "markdown",
      "source": [
        "In another tutorial a composition of reverse-mode AD and vmap gave us per-sample-gradients. \n",
        "In this tutorial, composing reverse-mode AD and vmap gives us Jacobian computation! \n",
        "Various compositions of vmap and autodiff transforms can give us different interesting quantities.\n",
        "\n",
        "functorch provides **jacrev** as a convenience function that performs the vmap-vjp composition to compute jacobians. **jacrev** accepts an argnums argument that says which argument we would like to compute Jacobians with respect to.\n",
        "\n"
      ],
      "metadata": {
        "id": "4gDqecJbyVgt"
      }
    },
    {
      "cell_type": "code",
      "source": [
        "from functorch import jacrev\n",
        "\n",
        "ft_jacobian = jacrev(predict, argnums=2)(weight, bias, x)\n",
        "\n",
        "# confirm \n",
        "assert torch.allclose(ft_jacobian, jacobian)"
      ],
      "metadata": {
        "id": "t0EfptYTAO47"
      },
      "execution_count": 59,
      "outputs": []
    },
    {
      "cell_type": "markdown",
      "source": [
        "Let’s compare the performance of the two ways to compute the jacobian. The functorch version is much faster (and becomes even faster the more outputs there are). \n",
        "\n",
        "In general, we expect that vectorization via vmap can help eliminate overhead and give better utilization of your hardware.\n",
        "\n",
        "Vmap does this magic by pushing the outer loop down into the functions primitive operations in order to obtain better performance.\n",
        "\n",
        "\n"
      ],
      "metadata": {
        "id": "PDEIxPZoxUb7"
      }
    },
    {
      "cell_type": "markdown",
      "source": [
        "Let's make a quick function to evaluate performance and deal with microseconds and milliseconds measurements:"
      ],
      "metadata": {
        "id": "gHxrra_jA3ur"
      }
    },
    {
      "cell_type": "code",
      "source": [
        "def get_perf(first, first_descriptor, second, second_descriptor):\n",
        "  \"\"\"  takes torch.benchmark objects and compares delta of second vs first. \"\"\"\n",
        "  faster = second.times[0]\n",
        "  slower = first.times[0]\n",
        "  gain = (slower-faster)/slower\n",
        "  if gain < 0: gain *=-1 \n",
        "  final_gain = gain*100\n",
        "  print(f\" Performance delta: {final_gain:.4f} percent improvement with {second_descriptor} \")\n",
        "  "
      ],
      "metadata": {
        "id": "rENMCuodBIef"
      },
      "execution_count": 60,
      "outputs": []
    },
    {
      "cell_type": "markdown",
      "source": [
        "And then run the performance comparison:"
      ],
      "metadata": {
        "id": "IaPfXXHngmUG"
      }
    },
    {
      "cell_type": "code",
      "source": [
        "from torch.utils.benchmark import Timer\n",
        "\n",
        "without_vmap = Timer(stmt=\"compute_jac(xp)\", globals=globals())\n",
        "with_vmap = Timer(stmt=\"jacrev(predict, argnums=2)(weight, bias, x)\", globals=globals())\n",
        "\n",
        "no_vmap_timer = without_vmap.timeit(500)\n",
        "with_vmap_timer = with_vmap.timeit(500)\n",
        "\n",
        "print(no_vmap_timer)\n",
        "print(with_vmap_timer)\n"
      ],
      "metadata": {
        "colab": {
          "base_uri": "https://localhost:8080/"
        },
        "id": "quEKCA2-Afdq",
        "outputId": "72cf8a9f-759f-479e-9525-190da282b802"
      },
      "execution_count": 61,
      "outputs": [
        {
          "output_type": "stream",
          "name": "stdout",
          "text": [
            "<torch.utils.benchmark.utils.common.Measurement object at 0x7f682eb5a450>\n",
            "compute_jac(xp)\n",
            "  2.04 ms\n",
            "  1 measurement, 500 runs , 1 thread\n",
            "<torch.utils.benchmark.utils.common.Measurement object at 0x7f6733f08810>\n",
            "jacrev(predict, argnums=2)(weight, bias, x)\n",
            "  810.29 us\n",
            "  1 measurement, 500 runs , 1 thread\n"
          ]
        }
      ]
    },
    {
      "cell_type": "markdown",
      "source": [
        "Lets do a relative performance comparison of the above with our get_perf function:"
      ],
      "metadata": {
        "id": "5tY4c45fxVMi"
      }
    },
    {
      "cell_type": "code",
      "source": [
        "get_perf(no_vmap_timer, \"without vmap\",  with_vmap_timer, \"vmap\");"
      ],
      "metadata": {
        "colab": {
          "base_uri": "https://localhost:8080/"
        },
        "id": "gQ_iv23m97A7",
        "outputId": "e9a44c9e-9ed7-41f5-dd3c-77f0b7599f06"
      },
      "execution_count": 62,
      "outputs": [
        {
          "output_type": "stream",
          "name": "stdout",
          "text": [
            " Performance delta: 60.3299 percent improvement with vmap \n"
          ]
        }
      ]
    },
    {
      "cell_type": "markdown",
      "source": [
        "Furthemore, it’s pretty easy to flip the problem around and say we want to compute Jacobians of the parameters to our model (weight, bias) instead of the input."
      ],
      "metadata": {
        "id": "wtUxdj8gD1w7"
      }
    },
    {
      "cell_type": "code",
      "source": [
        "ft_jac_weight, ft_jac_bias = jacrev(predict, argnums=(0, 1))(weight, bias, x) # note the change in input via argnums params of 0,1 to map to weight and bias"
      ],
      "metadata": {
        "id": "iKtvWR0n-b3E"
      },
      "execution_count": 63,
      "outputs": []
    },
    {
      "cell_type": "markdown",
      "source": [
        "## reverse-mode Jacobian (jacrev) vs forward-mode Jacobian (jacfwd)\n"
      ],
      "metadata": {
        "id": "zKm1sgT0EPx8"
      }
    },
    {
      "cell_type": "markdown",
      "source": [
        "We offer two APIs to compute jacobians: **jacrev** and **jacfwd**: \n",
        "\n",
        "- jacrev uses reverse-mode AD. As you saw above it is a composition of our vjp and vmap transforms. \n",
        "\n",
        "- jacfwd uses forward-mode AD. It is implemented as a composition of our jvp and vmap transforms. \n",
        "\n",
        "jacfwd and jacrev can be substituted for each other but they have different performance characteristics.\n",
        "\n",
        "As a general rule of thumb, if you’re computing the jacobian of an 𝑅𝑁−>𝑅𝑀 function, and there are many more outputs than inputs (i.e. M > N) then jacfwd is preferred, otherwise use jacrev. \n",
        "\n",
        "There are exceptions to this rule, but a non-rigorous argument for this follows:\n",
        "\n",
        "In reverse-mode AD, we are computing the jacobian row-by-row, while in forward-mode AD (which computes Jacobian-vector products), we are computing it column-by-column. \n",
        "\n",
        "The Jacobian matrix has M rows and N columns, so if it is taller or wider one way we may prefer the method that deals with fewer rows or columns.\n",
        "\n"
      ],
      "metadata": {
        "id": "LDqTlkfXEP0q"
      }
    },
    {
      "cell_type": "code",
      "source": [
        "from functorch import jacrev, jacfwd"
      ],
      "metadata": {
        "id": "GrQG0lRoFML7"
      },
      "execution_count": 64,
      "outputs": []
    },
    {
      "cell_type": "markdown",
      "source": [
        "First, let's benchmark with more inputs than outputs:\n",
        "\n"
      ],
      "metadata": {
        "id": "7QIZkss7FQhK"
      }
    },
    {
      "cell_type": "code",
      "source": [
        "Din = 32\n",
        "Dout = 2048\n",
        "weight = torch.randn(Dout, Din)\n",
        "\n",
        "bias = torch.randn(Dout)\n",
        "x = torch.randn(Din)\n",
        "\n",
        "# remember the general rule about taller vs wider...here we have a taller matrix:\n",
        "print(weight.shape)\n",
        "\n",
        "using_fwd = Timer(stmt=\"jacfwd(predict, argnums=2)(weight, bias, x)\", globals=globals())\n",
        "using_bwd = Timer(stmt=\"jacrev(predict, argnums=2)(weight, bias, x)\", globals=globals())\n",
        "\n",
        "jacfwd_timing = using_fwd.timeit(500)\n",
        "jacrev_timing = using_bwd.timeit(500)\n",
        "\n",
        "print(f'jacfwd time: {jacfwd_timing}')\n",
        "print(f'jacrev time: {jacrev_timing}')\n"
      ],
      "metadata": {
        "id": "N0M0i6xf-nBt",
        "colab": {
          "base_uri": "https://localhost:8080/"
        },
        "outputId": "add77ba5-a947-4bb7-8c36-a2e742086cab"
      },
      "execution_count": 65,
      "outputs": [
        {
          "output_type": "stream",
          "name": "stdout",
          "text": [
            "torch.Size([2048, 32])\n",
            "jacfwd time: <torch.utils.benchmark.utils.common.Measurement object at 0x7f6734014c90>\n",
            "jacfwd(predict, argnums=2)(weight, bias, x)\n",
            "  1.18 ms\n",
            "  1 measurement, 500 runs , 1 thread\n",
            "jacrev time: <torch.utils.benchmark.utils.common.Measurement object at 0x7f67344b8650>\n",
            "jacrev(predict, argnums=2)(weight, bias, x)\n",
            "  14.98 ms\n",
            "  1 measurement, 500 runs , 1 thread\n"
          ]
        }
      ]
    },
    {
      "cell_type": "markdown",
      "source": [
        "and then do a relative benchmark:"
      ],
      "metadata": {
        "id": "UEh5jIK2FpBJ"
      }
    },
    {
      "cell_type": "code",
      "source": [
        "get_perf(jacfwd_timing, \"jacfwd\", jacrev_timing, \"jacrev\", );"
      ],
      "metadata": {
        "colab": {
          "base_uri": "https://localhost:8080/"
        },
        "id": "YmEqbvDeFrtt",
        "outputId": "a1eae78f-9a08-4b14-d96c-18483070b9d1"
      },
      "execution_count": 67,
      "outputs": [
        {
          "output_type": "stream",
          "name": "stdout",
          "text": [
            " Performance delta: 1170.0622 percent improvement with jacrev \n"
          ]
        }
      ]
    },
    {
      "cell_type": "markdown",
      "source": [
        "and now the reverse - more outputs (M) than inputs (N):"
      ],
      "metadata": {
        "id": "aZAXlFUNFxAY"
      }
    },
    {
      "cell_type": "code",
      "source": [
        "Din = 2048\n",
        "Dout = 32\n",
        "weight = torch.randn(Dout, Din)\n",
        "bias = torch.randn(Dout)\n",
        "x = torch.randn(Din)\n",
        "\n",
        "using_fwd = Timer(stmt=\"jacfwd(predict, argnums=2)(weight, bias, x)\", globals=globals())\n",
        "using_bwd = Timer(stmt=\"jacrev(predict, argnums=2)(weight, bias, x)\", globals=globals())\n",
        "\n",
        "jacfwd_timing = using_fwd.timeit(500)\n",
        "jacrev_timing = using_bwd.timeit(500)\n",
        "\n",
        "print(f'jacfwd time: {jacfwd_timing}')\n",
        "print(f'jacrev time: {jacrev_timing}')"
      ],
      "metadata": {
        "colab": {
          "base_uri": "https://localhost:8080/"
        },
        "id": "jHVkLcr9_SIe",
        "outputId": "86f7fb41-d14b-4b5f-9086-709278c99f67"
      },
      "execution_count": 71,
      "outputs": [
        {
          "output_type": "stream",
          "name": "stdout",
          "text": [
            "jacfwd time: <torch.utils.benchmark.utils.common.Measurement object at 0x7f67340145d0>\n",
            "jacfwd(predict, argnums=2)(weight, bias, x)\n",
            "  8.99 ms\n",
            "  1 measurement, 500 runs , 1 thread\n",
            "jacrev time: <torch.utils.benchmark.utils.common.Measurement object at 0x7f67344b8110>\n",
            "jacrev(predict, argnums=2)(weight, bias, x)\n",
            "  1.03 ms\n",
            "  1 measurement, 500 runs , 1 thread\n"
          ]
        }
      ]
    },
    {
      "cell_type": "markdown",
      "source": [
        "and a relative perf comparison:"
      ],
      "metadata": {
        "id": "I47HDJBwGAM4"
      }
    },
    {
      "cell_type": "code",
      "source": [
        "get_perf(jacrev_timing, \"jacrev\", jacfwd_timing, \"jacfwd\")"
      ],
      "metadata": {
        "id": "jPdAcIgu1es-",
        "colab": {
          "base_uri": "https://localhost:8080/"
        },
        "outputId": "ceebc303-9531-4903-84a9-0cbefe4bc318"
      },
      "execution_count": 72,
      "outputs": [
        {
          "output_type": "stream",
          "name": "stdout",
          "text": [
            " Performance delta: 775.3424 percent improvement with jacfwd \n"
          ]
        }
      ]
    },
    {
      "cell_type": "markdown",
      "source": [
        "## Hessian computation with functorch.hessian\n"
      ],
      "metadata": {
        "id": "NRr6l4u0obus"
      }
    },
    {
      "cell_type": "markdown",
      "source": [
        "We offer a convenience API to compute hessians: functorch.hessian. \n",
        "Hessians are the jacobian of the jacobian (or the partial derivative of the partial derivative, aka second order).\n",
        "\n",
        "This suggests that one can just compose functorch’s jacobian transforms to compute the Hessian. \n",
        "Indeed, under the hood, hessian(f) is simply jacfwd(jacrev(f)).\n",
        "\n"
      ],
      "metadata": {
        "id": "k0vSE1C1GeUJ"
      }
    },
    {
      "cell_type": "markdown",
      "source": [
        "Note: to boost performance: depending on your model, you may also want to use jacfwd(jacfwd(f)) or jacrev(jacrev(f)) instead to compute hessians leveraging the rule of thumb above regarding wider vs taller matrices.\n",
        "\n"
      ],
      "metadata": {
        "id": "NEu1Zfo2G9fa"
      }
    },
    {
      "cell_type": "code",
      "source": [
        "from functorch import hessian\n",
        "\n",
        "# lets reduce the size in order not to blow out colab. Hessians require significant memory:\n",
        "Din = 512\n",
        "Dout = 32\n",
        "weight = torch.randn(Dout, Din)\n",
        "bias = torch.randn(Dout)\n",
        "x = torch.randn(Din)\n",
        "\n",
        "hess_api = hessian(predict, argnums=2)(weight, bias, x)\n",
        "hess_fwdfwd = jacfwd(jacfwd(predict, argnums=2), argnums=2)(weight, bias, x)\n",
        "#hess_revrev = jacrev(jacrev(predict, argnums=2), argnums=2)(weight, bias, x)\n"
      ],
      "metadata": {
        "id": "tYhxPLb-Gdh-"
      },
      "execution_count": 87,
      "outputs": []
    },
    {
      "cell_type": "markdown",
      "source": [
        "Let's verify we have the same result regardless of using hessian api or using jacfwd(jacfwd())"
      ],
      "metadata": {
        "id": "Qm_TPCCiso9u"
      }
    },
    {
      "cell_type": "code",
      "source": [
        "torch.allclose(hess_api, hess_fwdfwd)"
      ],
      "metadata": {
        "colab": {
          "base_uri": "https://localhost:8080/"
        },
        "id": "uL23RF5UrroT",
        "outputId": "48327575-6a69-4e3c-898d-06b4792f44ca"
      },
      "execution_count": 89,
      "outputs": [
        {
          "output_type": "execute_result",
          "data": {
            "text/plain": [
              "True"
            ]
          },
          "metadata": {},
          "execution_count": 89
        }
      ]
    },
    {
      "cell_type": "markdown",
      "source": [
        "## Batch Jacobian and Batch Hessian\n"
      ],
      "metadata": {
        "id": "9xBE48HXIOOj"
      }
    },
    {
      "cell_type": "markdown",
      "source": [
        "In the above examples we’ve been operating with a single feature vector. \n",
        "\n",
        "In some cases you might want to take the Jacobian of a batch of outputs with respect to a batch of inputs. \n",
        "\n",
        "That is, given a batch of inputs of shape (B, N) and a function that goes from R^N -> R^M, we would like a Jacobian of shape (B, M, N). \n",
        "\n",
        "The easiest way to do this is to use vmap:\n",
        "\n"
      ],
      "metadata": {
        "id": "sJVzGqnEIhJA"
      }
    },
    {
      "cell_type": "code",
      "source": [
        "batch_size = 64\n",
        "Din = 31\n",
        "Dout = 33\n",
        "\n",
        "weight = torch.randn(Dout, Din)\n",
        "print(f\"weight shape = {weight.shape}\")\n",
        "\n",
        "bias = torch.randn(Dout)\n",
        "\n",
        "x = torch.randn(batch_size, Din)"
      ],
      "metadata": {
        "id": "gEEWzX2QndqN",
        "colab": {
          "base_uri": "https://localhost:8080/"
        },
        "outputId": "c55e07d8-e3b6-40f6-f8f4-39014ff7d9b9"
      },
      "execution_count": 91,
      "outputs": [
        {
          "output_type": "stream",
          "name": "stdout",
          "text": [
            "weight shape = torch.Size([33, 31])\n"
          ]
        }
      ]
    },
    {
      "cell_type": "code",
      "source": [
        "compute_batch_jacobian = vmap(jacrev(predict, argnums=2), in_dims=(None, None, 0))\n",
        "batch_jacobian0 = compute_batch_jacobian(weight, bias, x)"
      ],
      "metadata": {
        "id": "khYtmCqJn1h-"
      },
      "execution_count": 92,
      "outputs": []
    },
    {
      "cell_type": "markdown",
      "source": [
        "If you have a function that goes from (B, N) -> (B, M) instead and are certain that each input produces an independent output, then it’s also sometimes possible to do this without using vmap by summing the outputs and then computing the Jacobian of that function:\n",
        "\n"
      ],
      "metadata": {
        "id": "rXE9tY05JHaJ"
      }
    },
    {
      "cell_type": "code",
      "source": [
        "def predict_with_output_summed(weight, bias, x):\n",
        "    return predict(weight, bias, x).sum(0)\n",
        "\n",
        "batch_jacobian1 = jacrev(predict_with_output_summed, argnums=2)(weight, bias, x).movedim(1, 0)\n",
        "assert torch.allclose(batch_jacobian0, batch_jacobian1)"
      ],
      "metadata": {
        "id": "eohigCobop4R"
      },
      "execution_count": 93,
      "outputs": []
    },
    {
      "cell_type": "markdown",
      "source": [
        "If you instead have a function that goes from 𝑅𝑁−>𝑅𝑀 but inputs that are batched, you compose vmap with jacrev to compute batched jacobians:\n",
        "\n",
        "Finally, batch hessians can be computed similarly. It’s easiest to think about them by using vmap to batch over hessian computation, but in some cases the sum trick also works.\n",
        "\n"
      ],
      "metadata": {
        "id": "O3AGffymp_39"
      }
    },
    {
      "cell_type": "code",
      "source": [
        "compute_batch_hessian = vmap(hessian(predict, argnums=2), in_dims=(None, None, 0))\n",
        "\n",
        "batch_hess = compute_batch_hessian(weight, bias, x)\n",
        "batch_hess.shape"
      ],
      "metadata": {
        "colab": {
          "base_uri": "https://localhost:8080/"
        },
        "id": "HYddoLSTfi-g",
        "outputId": "5ddbd9b0-57f8-4ac4-a399-a6bdadfaa167"
      },
      "execution_count": 95,
      "outputs": [
        {
          "output_type": "execute_result",
          "data": {
            "text/plain": [
              "torch.Size([64, 33, 31, 31])"
            ]
          },
          "metadata": {},
          "execution_count": 95
        }
      ]
    },
    {
      "cell_type": "code",
      "source": [
        ""
      ],
      "metadata": {
        "id": "22e5fo2jqANi"
      },
      "execution_count": null,
      "outputs": []
    }
  ]
}