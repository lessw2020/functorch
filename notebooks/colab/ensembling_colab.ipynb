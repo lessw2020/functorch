{
  "nbformat": 4,
  "nbformat_minor": 0,
  "metadata": {
    "colab": {
      "name": "ensembling_colab.ipynb",
      "provenance": [],
      "collapsed_sections": [
        "0I5Mm2q2f5aw"
      ],
      "machine_shape": "hm",
      "toc_visible": true
    },
    "kernelspec": {
      "name": "python3",
      "display_name": "Python 3"
    },
    "language_info": {
      "name": "python"
    },
    "accelerator": "GPU"
  },
  "cells": [
    {
      "cell_type": "markdown",
      "source": [
        "### Welcome to the functorch tutorial on ensembling models, in colab."
      ],
      "metadata": {
        "id": "W6b4RUiYnhSt"
      }
    },
    {
      "cell_type": "markdown",
      "source": [
        "## Configuring your colab to run functorch \n"
      ],
      "metadata": {
        "id": "0I5Mm2q2f5aw"
      }
    },
    {
      "cell_type": "markdown",
      "source": [
        "**Getting setup** - running functorch currently requires Pytorch Nightly.  \n",
        "Thus we'll go through a pytorch nightly install and build functorch. \n",
        "\n",
        "After that and a restart, you'll be ready to run the tutorial here on colab."
      ],
      "metadata": {
        "id": "jnHxd2KFgPJg"
      }
    },
    {
      "cell_type": "markdown",
      "source": [
        "Let's setup a restart function:"
      ],
      "metadata": {
        "id": "PvwZSOklhpB2"
      }
    },
    {
      "cell_type": "code",
      "source": [
        "def colab_restart():\n",
        "  print(\"--> Restarting colab instance\") \n",
        "  get_ipython().kernel.do_shutdown(True)"
      ],
      "metadata": {
        "id": "MklsA-KRhZKC"
      },
      "execution_count": 1,
      "outputs": []
    },
    {
      "cell_type": "markdown",
      "source": [
        "Next, let's confirm that we have a gpu.  \n",
        "(If not, select Runtime -> Change Runtime type above,\n",
        " and select GPU under Hardward Accelerator )"
      ],
      "metadata": {
        "id": "Njk9qPgTiiGS"
      }
    },
    {
      "cell_type": "code",
      "source": [
        "!nvcc --version"
      ],
      "metadata": {
        "colab": {
          "base_uri": "https://localhost:8080/"
        },
        "id": "HxidO4dpiPGi",
        "outputId": "f97e7000-a327-45c4-a993-f6469c121a7f"
      },
      "execution_count": 2,
      "outputs": [
        {
          "output_type": "stream",
          "name": "stdout",
          "text": [
            "nvcc: NVIDIA (R) Cuda compiler driver\n",
            "Copyright (c) 2005-2020 NVIDIA Corporation\n",
            "Built on Mon_Oct_12_20:09:46_PDT_2020\n",
            "Cuda compilation tools, release 11.1, V11.1.105\n",
            "Build cuda_11.1.TC455_06.29190527_0\n"
          ]
        }
      ]
    },
    {
      "cell_type": "markdown",
      "source": [
        "Let's remove the default PyTorch install:"
      ],
      "metadata": {
        "id": "HanoUO62jtKx"
      }
    },
    {
      "cell_type": "code",
      "source": [
        "!pip uninstall -y torch"
      ],
      "metadata": {
        "colab": {
          "base_uri": "https://localhost:8080/"
        },
        "id": "NIoTNykP9xI5",
        "outputId": "d36069bb-cc94-45e9-a1e4-635b9bc616f4"
      },
      "execution_count": 3,
      "outputs": [
        {
          "output_type": "stream",
          "name": "stdout",
          "text": [
            "Found existing installation: torch 1.10.0+cu111\n",
            "Uninstalling torch-1.10.0+cu111:\n",
            "  Successfully uninstalled torch-1.10.0+cu111\n"
          ]
        }
      ]
    },
    {
      "cell_type": "markdown",
      "source": [
        "And install the relevant nightly version.  (this defaults to 11.1 Cuda which works on most colabs). "
      ],
      "metadata": {
        "id": "n-DFUwBVkHaX"
      }
    },
    {
      "cell_type": "code",
      "source": [
        "cuda_version = \"cu111\" # optionally - cu113 (for 11.3) is an option as well if you have 11.3 listed above in the nvcc output. "
      ],
      "metadata": {
        "id": "BH5ffJBkkRR8"
      },
      "execution_count": 4,
      "outputs": []
    },
    {
      "cell_type": "code",
      "source": [
        "!pip install --pre torch -f https://download.pytorch.org/whl/nightly/{cuda_version}/torch_nightly.html --upgrade"
      ],
      "metadata": {
        "colab": {
          "base_uri": "https://localhost:8080/"
        },
        "id": "Bi2oymijkav5",
        "outputId": "bfd678c2-5d52-4ba1-cea2-3125c8f0fcbb"
      },
      "execution_count": 5,
      "outputs": [
        {
          "output_type": "stream",
          "name": "stdout",
          "text": [
            "Looking in links: https://download.pytorch.org/whl/nightly/cu111/torch_nightly.html\n",
            "Collecting torch\n",
            "  Downloading https://download.pytorch.org/whl/nightly/cu111/torch-1.12.0.dev20220217%2Bcu111-cp37-cp37m-linux_x86_64.whl (1923.7 MB)\n",
            "\u001b[K     |█████████████▉                  | 834.1 MB 133.5 MB/s eta 0:00:09tcmalloc: large alloc 1147494400 bytes == 0x555621e3c000 @  0x7f9e1d70c615 0x5555e92683bc 0x5555e934918a 0x5555e926b1cd 0x5555e935db3d 0x5555e92df458 0x5555e92da02f 0x5555e926caba 0x5555e92df2c0 0x5555e92da02f 0x5555e926caba 0x5555e92dbcd4 0x5555e935e986 0x5555e92db350 0x5555e935e986 0x5555e92db350 0x5555e935e986 0x5555e92db350 0x5555e926cf19 0x5555e92b0a79 0x5555e926bb32 0x5555e92df1dd 0x5555e92da02f 0x5555e926caba 0x5555e92dbcd4 0x5555e92da02f 0x5555e926caba 0x5555e92daeae 0x5555e926c9da 0x5555e92db108 0x5555e92da02f\n",
            "\u001b[K     |█████████████████▋              | 1055.7 MB 1.8 MB/s eta 0:08:01tcmalloc: large alloc 1434370048 bytes == 0x555666492000 @  0x7f9e1d70c615 0x5555e92683bc 0x5555e934918a 0x5555e926b1cd 0x5555e935db3d 0x5555e92df458 0x5555e92da02f 0x5555e926caba 0x5555e92df2c0 0x5555e92da02f 0x5555e926caba 0x5555e92dbcd4 0x5555e935e986 0x5555e92db350 0x5555e935e986 0x5555e92db350 0x5555e935e986 0x5555e92db350 0x5555e926cf19 0x5555e92b0a79 0x5555e926bb32 0x5555e92df1dd 0x5555e92da02f 0x5555e926caba 0x5555e92dbcd4 0x5555e92da02f 0x5555e926caba 0x5555e92daeae 0x5555e926c9da 0x5555e92db108 0x5555e92da02f\n",
            "\u001b[K     |██████████████████████▎         | 1336.2 MB 1.2 MB/s eta 0:07:54tcmalloc: large alloc 1792966656 bytes == 0x5555eb2c4000 @  0x7f9e1d70c615 0x5555e92683bc 0x5555e934918a 0x5555e926b1cd 0x5555e935db3d 0x5555e92df458 0x5555e92da02f 0x5555e926caba 0x5555e92df2c0 0x5555e92da02f 0x5555e926caba 0x5555e92dbcd4 0x5555e935e986 0x5555e92db350 0x5555e935e986 0x5555e92db350 0x5555e935e986 0x5555e92db350 0x5555e926cf19 0x5555e92b0a79 0x5555e926bb32 0x5555e92df1dd 0x5555e92da02f 0x5555e926caba 0x5555e92dbcd4 0x5555e92da02f 0x5555e926caba 0x5555e92daeae 0x5555e926c9da 0x5555e92db108 0x5555e92da02f\n",
            "\u001b[K     |████████████████████████████▏   | 1691.1 MB 1.2 MB/s eta 0:03:17tcmalloc: large alloc 2241208320 bytes == 0x5556560ac000 @  0x7f9e1d70c615 0x5555e92683bc 0x5555e934918a 0x5555e926b1cd 0x5555e935db3d 0x5555e92df458 0x5555e92da02f 0x5555e926caba 0x5555e92df2c0 0x5555e92da02f 0x5555e926caba 0x5555e92dbcd4 0x5555e935e986 0x5555e92db350 0x5555e935e986 0x5555e92db350 0x5555e935e986 0x5555e92db350 0x5555e926cf19 0x5555e92b0a79 0x5555e926bb32 0x5555e92df1dd 0x5555e92da02f 0x5555e926caba 0x5555e92dbcd4 0x5555e92da02f 0x5555e926caba 0x5555e92daeae 0x5555e926c9da 0x5555e92db108 0x5555e92da02f\n",
            "\u001b[K     |████████████████████████████████| 1923.7 MB 2.5 MB/s eta 0:00:01tcmalloc: large alloc 1923702784 bytes == 0x5556dba0e000 @  0x7f9e1d70b1e7 0x5555e929e5d7 0x5555e92683bc 0x5555e934918a 0x5555e926b1cd 0x5555e935db3d 0x5555e92df458 0x5555e92da02f 0x5555e926caba 0x5555e92db108 0x5555e92da02f 0x5555e926caba 0x5555e92db108 0x5555e92da02f 0x5555e926caba 0x5555e92db108 0x5555e92da02f 0x5555e926caba 0x5555e92db108 0x5555e92da02f 0x5555e926caba 0x5555e92db108 0x5555e926c9da 0x5555e92db108 0x5555e92da02f 0x5555e926caba 0x5555e92dbcd4 0x5555e92da02f 0x5555e926caba 0x5555e92dbcd4 0x5555e92da02f\n",
            "tcmalloc: large alloc 2404630528 bytes == 0x55574e4a4000 @  0x7f9e1d70c615 0x5555e92683bc 0x5555e934918a 0x5555e926b1cd 0x5555e935db3d 0x5555e92df458 0x5555e92da02f 0x5555e926caba 0x5555e92db108 0x5555e92da02f 0x5555e926caba 0x5555e92db108 0x5555e92da02f 0x5555e926caba 0x5555e92db108 0x5555e92da02f 0x5555e926caba 0x5555e92db108 0x5555e92da02f 0x5555e926caba 0x5555e92db108 0x5555e926c9da 0x5555e92db108 0x5555e92da02f 0x5555e926caba 0x5555e92dbcd4 0x5555e92da02f 0x5555e926caba 0x5555e92dbcd4 0x5555e92da02f 0x5555e926d151\n",
            "\u001b[K     |████████████████████████████████| 1923.7 MB 8.0 kB/s \n",
            "\u001b[?25hRequirement already satisfied: typing-extensions in /usr/local/lib/python3.7/dist-packages (from torch) (3.10.0.2)\n",
            "Installing collected packages: torch\n",
            "\u001b[31mERROR: pip's dependency resolver does not currently take into account all the packages that are installed. This behaviour is the source of the following dependency conflicts.\n",
            "torchvision 0.11.1+cu111 requires torch==1.10.0, but you have torch 1.12.0.dev20220217+cu111 which is incompatible.\n",
            "torchtext 0.11.0 requires torch==1.10.0, but you have torch 1.12.0.dev20220217+cu111 which is incompatible.\n",
            "torchaudio 0.10.0+cu111 requires torch==1.10.0, but you have torch 1.12.0.dev20220217+cu111 which is incompatible.\u001b[0m\n",
            "Successfully installed torch-1.12.0.dev20220217+cu111\n"
          ]
        }
      ]
    },
    {
      "cell_type": "markdown",
      "source": [
        "Let's install Ninja to accelerate the functorch building process:"
      ],
      "metadata": {
        "id": "OkL1Q6KXlzid"
      }
    },
    {
      "cell_type": "code",
      "source": [
        "!pip install ninja"
      ],
      "metadata": {
        "colab": {
          "base_uri": "https://localhost:8080/"
        },
        "id": "VEJs4UEOkay0",
        "outputId": "6aef4cb4-c158-457c-e093-1eb919d2e419"
      },
      "execution_count": 6,
      "outputs": [
        {
          "output_type": "stream",
          "name": "stdout",
          "text": [
            "Collecting ninja\n",
            "  Downloading ninja-1.10.2.3-py2.py3-none-manylinux_2_5_x86_64.manylinux1_x86_64.whl (108 kB)\n",
            "\u001b[?25l\r\u001b[K     |███                             | 10 kB 15.0 MB/s eta 0:00:01\r\u001b[K     |██████                          | 20 kB 9.2 MB/s eta 0:00:01\r\u001b[K     |█████████                       | 30 kB 6.1 MB/s eta 0:00:01\r\u001b[K     |████████████▏                   | 40 kB 3.6 MB/s eta 0:00:01\r\u001b[K     |███████████████▏                | 51 kB 3.5 MB/s eta 0:00:01\r\u001b[K     |██████████████████▏             | 61 kB 4.2 MB/s eta 0:00:01\r\u001b[K     |█████████████████████▏          | 71 kB 4.4 MB/s eta 0:00:01\r\u001b[K     |████████████████████████▎       | 81 kB 5.0 MB/s eta 0:00:01\r\u001b[K     |███████████████████████████▎    | 92 kB 5.2 MB/s eta 0:00:01\r\u001b[K     |██████████████████████████████▎ | 102 kB 4.2 MB/s eta 0:00:01\r\u001b[K     |████████████████████████████████| 108 kB 4.2 MB/s \n",
            "\u001b[?25hInstalling collected packages: ninja\n",
            "Successfully installed ninja-1.10.2.3\n"
          ]
        }
      ]
    },
    {
      "cell_type": "markdown",
      "source": [
        "Next we'll install and build functorch (eta is ~6 minutes):"
      ],
      "metadata": {
        "id": "s3rrVgGkmNpi"
      }
    },
    {
      "cell_type": "code",
      "execution_count": 7,
      "metadata": {
        "id": "UtBgzUPDfIQg",
        "colab": {
          "base_uri": "https://localhost:8080/"
        },
        "outputId": "affd08d0-7a6f-41d7-d32b-00418120231a"
      },
      "outputs": [
        {
          "output_type": "stream",
          "name": "stdout",
          "text": [
            "Collecting git+https://github.com/pytorch/functorch.git\n",
            "  Cloning https://github.com/pytorch/functorch.git to /tmp/pip-req-build-fu9dydpo\n",
            "  Running command git clone -q https://github.com/pytorch/functorch.git /tmp/pip-req-build-fu9dydpo\n",
            "Requirement already satisfied: torch>=1.10.0.dev in /usr/local/lib/python3.7/dist-packages (from functorch==0.2.0a0+8915608) (1.12.0.dev20220217+cu111)\n",
            "Requirement already satisfied: typing-extensions in /usr/local/lib/python3.7/dist-packages (from torch>=1.10.0.dev->functorch==0.2.0a0+8915608) (3.10.0.2)\n",
            "Building wheels for collected packages: functorch\n",
            "  Building wheel for functorch (setup.py) ... \u001b[?25l\u001b[?25hdone\n",
            "  Created wheel for functorch: filename=functorch-0.2.0a0+8915608-cp37-cp37m-linux_x86_64.whl size=21388647 sha256=7df53c10ec474b040d0ab8d774b29c400af196b80303a8f0341d21732c46e28d\n",
            "  Stored in directory: /tmp/pip-ephem-wheel-cache-r01u5lf5/wheels/b0/a9/4a/ffec50dda854c8d9f2ba21e4ffc0f2489ea97946cb1102c5ab\n",
            "Successfully built functorch\n",
            "Installing collected packages: functorch\n",
            "Successfully installed functorch-0.2.0a0+8915608\n"
          ]
        }
      ],
      "source": [
        "!pip install --user \"git+https://github.com/pytorch/functorch.git\""
      ]
    },
    {
      "cell_type": "markdown",
      "source": [
        "Finally - restart colab and after that - just skip directly down to the '-- Tutorial Start --' section to get underway."
      ],
      "metadata": {
        "id": "T8dhR1XEmcJ6"
      }
    },
    {
      "cell_type": "code",
      "source": [
        "colab_restart() "
      ],
      "metadata": {
        "id": "xo2UY9b8ma8t",
        "colab": {
          "base_uri": "https://localhost:8080/"
        },
        "outputId": "5e0f9316-7a33-4069-aff2-2fb8b8631d04"
      },
      "execution_count": 8,
      "outputs": [
        {
          "output_type": "stream",
          "name": "stdout",
          "text": [
            "--> Restarting colab instance\n"
          ]
        }
      ]
    },
    {
      "cell_type": "markdown",
      "source": [
        "## -- Tutorial Start -- \n",
        "\n"
      ],
      "metadata": {
        "id": "nj6_fW76wM0d"
      }
    },
    {
      "cell_type": "code",
      "source": [
        "# Confirm we are ready to start.  \n",
        "# If this errs, please make sure you have completed the 'configuring your colab' steps above first and then return here.\n",
        "\n",
        "import functorch    "
      ],
      "metadata": {
        "id": "SvUfIxRyeAaL"
      },
      "execution_count": 1,
      "outputs": []
    },
    {
      "cell_type": "markdown",
      "source": [
        "# Model Ensembling\n",
        "\n",
        "This example illustrates how to vectorize model ensembling, using vmap.\n",
        "\n",
        "\n",
        "\n"
      ],
      "metadata": {
        "id": "nLdOLDH6m9oy"
      }
    },
    {
      "cell_type": "markdown",
      "source": [
        "**What is model ensembling?**\n",
        "\n",
        "Model ensembling combines the predictions from multiple models together. \n",
        "\n",
        "Traditionally this is done by running each model on some inputs separately and then combining the predictions. \n",
        "\n",
        "However, if you’re running models with the same architecture, then it may be possible to combine them together using vmap. vmap is a function transform that maps functions across dimensions of the input tensors. \n",
        "\n",
        "One of its use cases is eliminating for-loops and speeding them up through vectorization.\n",
        "\n"
      ],
      "metadata": {
        "id": "CJJBTOl-tawq"
      }
    },
    {
      "cell_type": "markdown",
      "source": [
        "Let’s demonstrate how to do this using an ensemble of simple CNNs."
      ],
      "metadata": {
        "id": "z21OfixOvBaM"
      }
    },
    {
      "cell_type": "code",
      "source": [
        "import torch\n",
        "import torch.nn as nn\n",
        "import torch.nn.functional as F\n",
        "from functools import partial\n",
        "torch.manual_seed(0);"
      ],
      "metadata": {
        "id": "Gb-yt4VKUUuc"
      },
      "execution_count": 3,
      "outputs": []
    },
    {
      "cell_type": "code",
      "source": [
        "# Here's a simple CNN\n",
        "\n",
        "class SimpleCNN(nn.Module):\n",
        "    def __init__(self):\n",
        "        super(SimpleCNN, self).__init__()\n",
        "        self.conv1 = nn.Conv2d(1, 32, 3, 1)\n",
        "        self.conv2 = nn.Conv2d(32, 64, 3, 1)\n",
        "        self.fc1 = nn.Linear(9216, 128)\n",
        "        self.fc2 = nn.Linear(128, 10)\n",
        "\n",
        "    def forward(self, x):\n",
        "        x = self.conv1(x)\n",
        "        x = F.relu(x)\n",
        "        x = self.conv2(x)\n",
        "        x = F.relu(x)\n",
        "        x = F.max_pool2d(x, 2)\n",
        "        x = torch.flatten(x, 1)\n",
        "        x = self.fc1(x)\n",
        "        x = F.relu(x)\n",
        "        x = self.fc2(x)\n",
        "        output = F.log_softmax(x, dim=1)\n",
        "        output = x\n",
        "        return output"
      ],
      "metadata": {
        "id": "tf-HKHjUUbyY"
      },
      "execution_count": 4,
      "outputs": []
    },
    {
      "cell_type": "markdown",
      "source": [
        "Let’s generate a batch of dummy data and pretend that we’re working with an MNIST dataset.  \n",
        "\n",
        "Thus, the dummy images are 28 by 28, and we have a minibatch of size 64.\n",
        "\n",
        "Furthermore, lets say we want to combine the predictions from 10 different models. \n"
      ],
      "metadata": {
        "id": "VEDPe-EoU5Fa"
      }
    },
    {
      "cell_type": "code",
      "source": [
        "device = 'cuda'\n",
        "\n",
        "num_models = 10\n",
        "\n",
        "data = torch.randn(100, 64, 1, 28, 28, device=device)\n",
        "targets = torch.randint(10, (6400,), device=device)\n",
        "\n",
        "models = [SimpleCNN().to(device) for _ in range(num_models)]\n"
      ],
      "metadata": {
        "id": "WB2Qe3AHUvPN"
      },
      "execution_count": 5,
      "outputs": []
    },
    {
      "cell_type": "markdown",
      "source": [
        "We have a couple of options for generating predictions. \n",
        "\n",
        "Maybe we want to give each model a different randomized minibatch of data. \n",
        "\n",
        "Alternatively, maybe we want to run the same minibatch of data through each model (e.g. if we were testing the effect of different model initializations).\n",
        "\n",
        "\n",
        "\n"
      ],
      "metadata": {
        "id": "GOGJ-OUxVcT5"
      }
    },
    {
      "cell_type": "markdown",
      "source": [
        "Option 1: different minibatch for each model"
      ],
      "metadata": {
        "id": "CwJBb09MxCN3"
      }
    },
    {
      "cell_type": "code",
      "source": [
        "minibatches = data[:num_models]\n",
        "predictions_diff_minibatch_loop = [model(minibatch) for model, minibatch in zip(models, minibatches)]"
      ],
      "metadata": {
        "id": "WYjMx8QTUvRu"
      },
      "execution_count": 10,
      "outputs": []
    },
    {
      "cell_type": "markdown",
      "source": [
        "Option 2: Same minibatch"
      ],
      "metadata": {
        "id": "HNw4_IVzU5Pz"
      }
    },
    {
      "cell_type": "code",
      "source": [
        "minibatch = data[0]\n",
        "predictions2 = [model(minibatch) for model in models]"
      ],
      "metadata": {
        "id": "vUsb3VfexJrY"
      },
      "execution_count": 7,
      "outputs": []
    },
    {
      "cell_type": "markdown",
      "source": [
        "# Using vmap to vectorize the ensemble\n",
        "\n",
        "\n",
        "\n",
        "\n"
      ],
      "metadata": {
        "id": "aNkX6lFIxzcm"
      }
    },
    {
      "cell_type": "markdown",
      "source": [
        "Let’s use vmap to speed up the for-loop. We must first prepare the models for use with vmap.\n",
        "\n",
        "First, let’s combine the states of the model together by stacking each parameter. For example, model[i].fc1.weight has shape [9216, 128]; we are going to stack the .fc1.weight of each of the 10 models to produce a big weight of shape [10, 9216, 128].\n",
        "\n",
        "functorch offers the 'combine_state_for_ensemble' convenience function to do that. It returns a stateless version of the model (fmodel) and stacked parameters and buffers.\n",
        "\n"
      ],
      "metadata": {
        "id": "-sFMojhryviM"
      }
    },
    {
      "cell_type": "code",
      "source": [
        "from functorch import combine_state_for_ensemble\n",
        "\n",
        "fmodel, params, buffers = combine_state_for_ensemble(models)\n",
        "[p.requires_grad_() for p in params];\n"
      ],
      "metadata": {
        "id": "C3a9_clvyPho"
      },
      "execution_count": 8,
      "outputs": []
    },
    {
      "cell_type": "markdown",
      "source": [
        "Option 1: get predictions using a different minibatch for each model. \n",
        "\n",
        "By default, vmap maps a function across the first dimension of all inputs to the passed-in function. \n",
        "\n",
        "After using the combine_state_for_ensemble, each of the params and buffers have an additional dimension of size 'num_models' at the front, and minibatches has a dimension of size 'num_models'.\n",
        "\n",
        "\n",
        "\n",
        "\n"
      ],
      "metadata": {
        "id": "mFJDWMM9yaYZ"
      }
    },
    {
      "cell_type": "code",
      "source": [
        "print([p.size(0) for p in params]) # show the leading 'num_models' dimension\n",
        "\n",
        "assert minibatches.shape == (num_models, 64, 1, 28, 28) # verify minibatch has leading dimension of size 'num_models'"
      ],
      "metadata": {
        "colab": {
          "base_uri": "https://localhost:8080/"
        },
        "id": "ezuFQx1G1zLG",
        "outputId": "15dcae9a-1a0e-4c24-fb7c-f8059a630400"
      },
      "execution_count": 12,
      "outputs": [
        {
          "output_type": "stream",
          "name": "stdout",
          "text": [
            "[10, 10, 10, 10, 10, 10, 10, 10]\n"
          ]
        }
      ]
    },
    {
      "cell_type": "code",
      "source": [
        "from functorch import vmap\n",
        "\n",
        "predictions1_vmap = vmap(fmodel)(params, buffers, minibatches)\n",
        "\n",
        "# verify the vmap predictions match the \n",
        "assert torch.allclose(predictions1_vmap, torch.stack(predictions_diff_minibatch_loop), atol=1e-3, rtol=1e-5)"
      ],
      "metadata": {
        "id": "VroLnfD82DDf"
      },
      "execution_count": 11,
      "outputs": []
    },
    {
      "cell_type": "markdown",
      "source": [
        "Option 2: get predictions using the same minibatch of data.\n",
        "\n",
        "vmap has an in_dims arg that specifies which dimensions to map over. \n",
        "\n",
        "By using None, we tell vmap we want the same minibatch to apply for all of the 10 models.\n",
        "\n",
        "\n"
      ],
      "metadata": {
        "id": "tlkmyQyfY6XU"
      }
    },
    {
      "cell_type": "code",
      "source": [
        "predictions2_vmap = vmap(fmodel, in_dims=(0, 0, None))(params, buffers, minibatch)\n",
        "\n",
        "assert torch.allclose(predictions2_vmap, torch.stack(predictions2), atol=1e-3, rtol=1e-5)"
      ],
      "metadata": {
        "id": "WiSMupvCyecd"
      },
      "execution_count": 13,
      "outputs": []
    },
    {
      "cell_type": "markdown",
      "source": [
        "A quick note: there are limitations around what types of functions can be transformed by vmap. \n",
        "\n",
        "The best functions to transform are ones that are pure functions: a function where the outputs are only determined by the inputs that have no side effects (e.g. mutation). \n",
        "\n",
        "vmap is unable to handle mutation of arbitrary Python data structures, but it is able to handle many in-place PyTorch operations.\n",
        "\n"
      ],
      "metadata": {
        "id": "wMsbppPNZklo"
      }
    },
    {
      "cell_type": "markdown",
      "source": [
        "In general, vectorization with vmap should be faster than running a function in a for-loop and competitive with manual batching. \n",
        "\n",
        "There are some exceptions though, like if we haven’t implemented the vmap rule for a particular operation or if the underlying kernels weren’t optimized for older hardware (GPUs). \n",
        "\n",
        "If you see any of these cases, please let us know by opening an issue at our [GitHub](https://github.com/pytorch/functorch)!\n",
        "\n"
      ],
      "metadata": {
        "id": "UI74G9JarQU8"
      }
    }
  ]
}